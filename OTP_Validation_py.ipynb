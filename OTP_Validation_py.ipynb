{
  "nbformat": 4,
  "nbformat_minor": 0,
  "metadata": {
    "colab": {
      "provenance": []
    },
    "kernelspec": {
      "name": "python3",
      "display_name": "Python 3"
    },
    "language_info": {
      "name": "python"
    }
  },
  "cells": [
    {
      "cell_type": "code",
      "execution_count": 8,
      "metadata": {
        "colab": {
          "base_uri": "https://localhost:8080/"
        },
        "id": "gZeZNpg0I4Dr",
        "outputId": "9f8c210b-f11b-4342-92da-a7248b7be4da"
      },
      "outputs": [
        {
          "output_type": "stream",
          "name": "stdout",
          "text": [
            "Enter Your name: Sukanya\n",
            "Enter Your Date of Birth: 13\n",
            "Enter your Month of birth: 3\n",
            "Enter Mail id: sukanya@gmail.com\n",
            "Enter OTP recieved to your mail: 1501\n",
            "Wrong OTP Entered !\n"
          ]
        }
      ],
      "source": [
        "import random\n",
        "import smtplib\n",
        "from email.mime.multipart import MIMEMultipart\n",
        "from email.mime.text import MIMEText\n",
        "otp = random.randint(1111,9999)\n",
        "months = {1:\"January\",2:\"Feb\",3:\"March\",4:\"April\",5:\"May\",6:\"June\",7:\"July\",8:\"August\",9:\"September\",10:\"October\",11:\"November\",12:\"Decemeber\"}\n",
        "name = input(\"Enter Your name: \")\n",
        "date = int(input(\"Enter Your Date of Birth: \"))\n",
        "month = int(input(\"Enter your Month of birth: \"))\n",
        "\n",
        "tomail = input(\"Enter Mail id: \")\n",
        "subject = \"OTP For Verification\"\n",
        "body = f\"Hello {name} !\\nDate of Birth : {date} - {months[month]}\\nYour Secret OTP is {otp}\"\n",
        "\n",
        "msg = MIMEMultipart()\n",
        "msg['From'] = \"balusuharshasri@gmail.com\"\n",
        "msg['To'] = tomail\n",
        "msg['Subject'] = subject\n",
        "msg.attach(MIMEText(body,'plain'))\n",
        "\n",
        "server = smtplib.SMTP(\"smtp.gmail.com\",587)\n",
        "server.starttls()\n",
        "server.login(\"balusuharshasri@gmail.com\",\"duii lebb gpjj egvc\")\n",
        "server.send_message(msg)\n",
        "server.quit()\n",
        "\n",
        "userinput = input(\"Enter OTP recieved to your mail: \")\n",
        "if userinput == str(otp):\n",
        "    print(\"OTP Validation Successfull !\")\n",
        "else:\n",
        "    print(\"Wrong OTP Entered !\")"
      ]
    }
  ]
}